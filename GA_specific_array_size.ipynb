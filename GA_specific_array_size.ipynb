{
 "cells": [
  {
   "cell_type": "code",
   "execution_count": 1,
   "metadata": {
    "collapsed": false
   },
   "outputs": [
    {
     "name": "stdout",
     "output_type": "stream",
     "text": [
      "Once deleted, variables cannot be recovered. Proceed (y/[n])? y\n"
     ]
    }
   ],
   "source": [
    "%reset\n",
    "import random\n",
    "import operator\n",
    "import time\n",
    "from math import log\n",
    "# from mpl_toolkits.mplot3d import Axes3D\n",
    "# import matplotlib.pyplot as plt\n",
    "import numpy as np\n",
    "import functools\n",
    "# import matplotlib.cm as cmx"
   ]
  },
  {
   "cell_type": "code",
   "execution_count": 2,
   "metadata": {
    "collapsed": false
   },
   "outputs": [],
   "source": [
    "population_size = 5\n",
    "num_elements = 4\n",
    "generations = 5\n",
    "mutation_rate = 0.5\n",
    "mofs_list = ['H1', 'I1', 'Z8', 'U66', 'N125']\n",
    "# number_items = 10\n",
    "# item_set = "
   ]
  },
  {
   "cell_type": "code",
   "execution_count": 3,
   "metadata": {
    "collapsed": true
   },
   "outputs": [],
   "source": [
    "def define_one_item(item):\n",
    "#     import probability data for mof item\n",
    "#     wild_card1 = random.random()*0.1\n",
    "#     wild_card2 = 1 - (wild_card1 + 0.2 + 0.1 + 0.5) \n",
    "#     probability = [wild_card2, 0.2, 0.1, 0.5, wild_card1]\n",
    "    return(probability)"
   ]
  },
  {
   "cell_type": "code",
   "execution_count": 4,
   "metadata": {
    "collapsed": false
   },
   "outputs": [],
   "source": [
    "# def define_item_set(mofs_list):\n",
    "# #     assign probability sets for each mof\n",
    "#     item_set = None\n",
    "#     for item in mofs_list:\n",
    "#         if item_set is not None:\n",
    "#             temp_item_set = item_set.copy()\n",
    "#             temp_item_set.update({item: define_one_item(item)})\n",
    "#             item_set = temp_item_set\n",
    "#         else:\n",
    "#             item_set = {item: define_one_item(item)}\n",
    "#     return(item_set)\n",
    "def define_item_set(mofs_list):\n",
    "    item_set = {'H1': [.05,.05,.05,.1,.2,.4,.1,.05,0,0], 'I1': [.05,.05,.05,.1,.1,.5,.05,.1,0,0], 'Z8': [.05,.05,.1,.15,.15,.5,0,0,0,0],\n",
    "    'U66': [.05,.05,.1,.1,.05,.2,.3,.1,.05,0], 'N125': [.1,.2,.05,.1,.05,.05,.1,.2,.1,.05]}\n",
    "    return(item_set)"
   ]
  },
  {
   "cell_type": "code",
   "execution_count": 5,
   "metadata": {
    "collapsed": false
   },
   "outputs": [],
   "source": [
    "# creates one array in the first population\n",
    "def create_one_individual(array_size, mofs_list):\n",
    "    individual = []\n",
    "    new_element = random.choice([0,1,2,3,4])\n",
    "    while len(individual) < array_size:\n",
    "        if new_element <= 4:\n",
    "            element = new_element\n",
    "        else:\n",
    "            element = new_element % 5\n",
    "        individual.append(element)\n",
    "        new_element += random.choice([1,2,3,4,5])\n",
    "        individual = list(set(individual))\n",
    "#     for element in range(array_size):\n",
    "#         if new_element <= 4:\n",
    "#             element = new_element\n",
    "#         else:\n",
    "#             element = new_element % 5\n",
    "#         individual.append(element)\n",
    "#         new_element += random.choice([1,2,3,4,5])\n",
    "    return(sorted(individual))"
   ]
  },
  {
   "cell_type": "code",
   "execution_count": 6,
   "metadata": {
    "collapsed": true
   },
   "outputs": [],
   "source": [
    "def create_first_population(array_size, mofs_list, population_size):\n",
    "    population = []\n",
    "    for i in range(population_size):\n",
    "        population.append({'geneIndex': create_one_individual(array_size, mofs_list)})\n",
    "    return(population)"
   ]
  },
  {
   "cell_type": "code",
   "execution_count": 7,
   "metadata": {
    "collapsed": true
   },
   "outputs": [],
   "source": [
    "def element_kld(item_set, selected_items):\n",
    "    compound_probability = None\n",
    "    for item in selected_items:\n",
    "        if compound_probability is not None:\n",
    "            compound_probability = [x*y for x,y in zip(compound_probability, item_set[item])]\n",
    "        else:\n",
    "            compound_probability = item_set[item]\n",
    "    normalize_factor = sum(compound_probability)\n",
    "    normalized_probability = [prob / normalize_factor for prob in compound_probability]\n",
    "    reference_prob = 1 / len(normalized_probability)\n",
    "    element_kld_value = sum([float(n_prob)*log((n_prob/reference_prob),2) for n_prob in normalized_probability if n_prob != 0])\n",
    "    return(element_kld_value)"
   ]
  },
  {
   "cell_type": "code",
   "execution_count": 8,
   "metadata": {
    "collapsed": true
   },
   "outputs": [],
   "source": [
    "# function to calculate fitness of one item\n",
    "def calculate_item_fitness(mofs_list, item_set, chosen_element):\n",
    "    selected_items = []\n",
    "    for i in range(len(chosen_element['geneIndex'])):\n",
    "            selected_items.append(mofs_list[chosen_element['geneIndex'][i]])\n",
    "    element_fitness = element_kld(item_set, selected_items)\n",
    "    return(element_fitness)"
   ]
  },
  {
   "cell_type": "code",
   "execution_count": 9,
   "metadata": {
    "collapsed": true
   },
   "outputs": [],
   "source": [
    "# function to calculate fitness of all items\n",
    "def calculate_fitness(mofs_list, item_set, first_population_):\n",
    "    fitness = []\n",
    "    for current_element in first_population_:\n",
    "        element_fitness = calculate_item_fitness(mofs_list, item_set, current_element)\n",
    "        temp_element = current_element.copy()\n",
    "        temp_element.update({'fitness': element_fitness})\n",
    "        fitness.append(temp_element)\n",
    "    return(fitness)"
   ]
  },
  {
   "cell_type": "code",
   "execution_count": 10,
   "metadata": {
    "collapsed": false
   },
   "outputs": [],
   "source": [
    "def first_population(array_size, mofs_list, item_set, population_size):\n",
    "    first_population_set = create_first_population(array_size, mofs_list, population_size)\n",
    "    fitness_final = calculate_fitness(mofs_list, item_set, first_population_set)\n",
    "    return(first_population_set, fitness_final)"
   ]
  },
  {
   "cell_type": "code",
   "execution_count": 11,
   "metadata": {
    "collapsed": true
   },
   "outputs": [],
   "source": [
    "# sort and pick top performing individual\n",
    "def sort_population(population_fitness):\n",
    "    ordered_population = sorted(population_fitness, key=lambda k: k['fitness'], reverse=True)\n",
    "    return(ordered_population)"
   ]
  },
  {
   "cell_type": "code",
   "execution_count": 12,
   "metadata": {
    "collapsed": true
   },
   "outputs": [],
   "source": [
    "# function to select parent items\n",
    "def select_breeders(population_sorted, population_size):\n",
    "    result = []\n",
    "    best_individuals = population_size // 5\n",
    "    lucky_few = population_size // 5\n",
    "    for i in range(best_individuals):\n",
    "        result.append(population_sorted[i])\n",
    "    for i in range(lucky_few):\n",
    "        result.append(random.choice(population_sorted[best_individuals:population_size+1]))\n",
    "    random.shuffle(result)\n",
    "    return(result)"
   ]
  },
  {
   "cell_type": "code",
   "execution_count": 13,
   "metadata": {
    "collapsed": true
   },
   "outputs": [],
   "source": [
    "# function to perform crossover\n",
    "def create_child(individual1, individual2):\n",
    "    result = []\n",
    "    for i in range(len(individual1['geneIndex'])):\n",
    "        if (100 * random.random() < 50):\n",
    "            result.append(individual1['geneIndex'][i])\n",
    "        else:\n",
    "            result.append(individual2['geneIndex'][i])\n",
    "    while len(result) < len(individual1['geneIndex']):\n",
    "        result.append(random.choice([0,1,2,3,4]))\n",
    "        result = list(set(result))\n",
    "    return(result)"
   ]
  },
  {
   "cell_type": "code",
   "execution_count": 14,
   "metadata": {
    "collapsed": true
   },
   "outputs": [],
   "source": [
    "def create_children(breeders, number_of_child):\n",
    "    result = []\n",
    "    for i in range(len(breeders) // 2):\n",
    "        for j in range(number_of_child):\n",
    "            result.append({'geneIndex' : create_child(breeders[i], breeders[len(breeders) - 1 - i])})\n",
    "    return(result)"
   ]
  },
  {
   "cell_type": "code",
   "execution_count": 15,
   "metadata": {
    "collapsed": true
   },
   "outputs": [],
   "source": [
    "# function to perform mutation\n",
    "def mutate_one_individual(individual, mutationRate):\n",
    "    for geneIndex in range(len(individual['geneIndex'])):\n",
    "        if (100 * random.random() < mutationRate):\n",
    "            individual['geneIndex'][geneIndex] = random.choice([0,1,2,3,4])\n",
    "    reduced_individual = list(set(individual['geneIndex']))\n",
    "    while len(reduced_individual) < len(individual['geneIndex']):\n",
    "        reduced_individual.append(random.choice([0,1,2,3,4]))\n",
    "        reduced_individual = list(set(reduced_individual))\n",
    "    individual['geneIndex'] = sorted(reduced_individual)\n",
    "    return(individual)"
   ]
  },
  {
   "cell_type": "code",
   "execution_count": 16,
   "metadata": {
    "collapsed": true
   },
   "outputs": [],
   "source": [
    "def mutate_population(current_population, mutationRate):\n",
    "    for individual in current_population:\n",
    "        individual = mutate_one_individual(individual, mutationRate)\n",
    "    return(current_population)"
   ]
  },
  {
   "cell_type": "code",
   "execution_count": 17,
   "metadata": {
    "collapsed": true
   },
   "outputs": [],
   "source": [
    "# function to run a generation"
   ]
  },
  {
   "cell_type": "code",
   "execution_count": 18,
   "metadata": {
    "collapsed": false
   },
   "outputs": [],
   "source": [
    "def run_genetic_algorithm(array_size, mofs_list, population_size, generations, mutation_rate):\n",
    "    number_of_child = 5\n",
    "    item_set = define_item_set(mofs_list)\n",
    "    first_population_items, first_population_fitness = first_population(array_size, mofs_list, item_set, population_size)\n",
    "#     choose the best kld value and item with this value, save\n",
    "    ordered_first_population = sort_population(first_population_fitness)\n",
    "    sorted_population = ordered_first_population\n",
    "    best_array = sorted_population[0]['geneIndex']\n",
    "    best_fitness = sorted_population[0]['fitness']\n",
    "    print(best_array, best_fitness)\n",
    "    for gen in range(generations):\n",
    "        parents = select_breeders(sorted_population, population_size)\n",
    "        population = create_children(parents, number_of_child)\n",
    "        population = mutate_population(population, mutation_rate)\n",
    "        population_fitness = calculate_fitness(mofs_list, item_set, population)\n",
    "        sorted_population = sort_population(population_fitness)\n",
    "        if sorted_population[0]['fitness'] > best_fitness:\n",
    "            best_array = sorted_population[0]['geneIndex']\n",
    "            best_fitness = sorted_population[0]['fitness']\n",
    "        else:\n",
    "            None\n",
    "        print(sorted_population)\n",
    "        print(best_array, best_fitness)\n",
    "\n",
    "    return([item_set, best_array, best_fitness])\n",
    "#     return([first_population_items, first_population_fitness])"
   ]
  },
  {
   "cell_type": "code",
   "execution_count": 27,
   "metadata": {
    "collapsed": false,
    "scrolled": true
   },
   "outputs": [
    {
     "name": "stdout",
     "output_type": "stream",
     "text": [
      "[0, 1, 2, 3] 3.174648061769762\n",
      "[{'geneIndex': [0, 1, 2, 3], 'fitness': 3.174648061769762}, {'geneIndex': [0, 2, 3, 4], 'fitness': 2.549604323242439}, {'geneIndex': [0, 2, 3, 4], 'fitness': 2.549604323242439}, {'geneIndex': [0, 2, 3, 4], 'fitness': 2.549604323242439}, {'geneIndex': [0, 1, 3, 4], 'fitness': 2.19970827725497}]\n",
      "[0, 1, 2, 3] 3.174648061769762\n",
      "[{'geneIndex': [0, 1, 2, 3], 'fitness': 3.174648061769762}, {'geneIndex': [0, 1, 2, 3], 'fitness': 3.174648061769762}, {'geneIndex': [0, 1, 2, 4], 'fitness': 2.864530211119854}, {'geneIndex': [0, 1, 2, 4], 'fitness': 2.864530211119854}, {'geneIndex': [0, 1, 3, 4], 'fitness': 2.19970827725497}]\n",
      "[0, 1, 2, 3] 3.174648061769762\n",
      "[{'geneIndex': [0, 1, 2, 3], 'fitness': 3.174648061769762}, {'geneIndex': [0, 1, 2, 3], 'fitness': 3.174648061769762}, {'geneIndex': [0, 1, 2, 3], 'fitness': 3.174648061769762}, {'geneIndex': [0, 1, 2, 3], 'fitness': 3.174648061769762}, {'geneIndex': [0, 1, 2, 3], 'fitness': 3.174648061769762}]\n",
      "[0, 1, 2, 3] 3.174648061769762\n",
      "[{'geneIndex': [0, 1, 2, 3], 'fitness': 3.174648061769762}, {'geneIndex': [0, 1, 2, 3], 'fitness': 3.174648061769762}, {'geneIndex': [0, 1, 2, 3], 'fitness': 3.174648061769762}, {'geneIndex': [0, 1, 2, 3], 'fitness': 3.174648061769762}, {'geneIndex': [0, 1, 2, 3], 'fitness': 3.174648061769762}]\n",
      "[0, 1, 2, 3] 3.174648061769762\n",
      "[{'geneIndex': [0, 1, 2, 3], 'fitness': 3.174648061769762}, {'geneIndex': [0, 1, 2, 3], 'fitness': 3.174648061769762}, {'geneIndex': [0, 1, 2, 3], 'fitness': 3.174648061769762}, {'geneIndex': [0, 1, 2, 3], 'fitness': 3.174648061769762}, {'geneIndex': [0, 1, 2, 3], 'fitness': 3.174648061769762}]\n",
      "[0, 1, 2, 3] 3.174648061769762\n"
     ]
    }
   ],
   "source": [
    "test_pop = run_genetic_algorithm(num_elements, mofs_list, population_size, generations, mutation_rate)"
   ]
  },
  {
   "cell_type": "code",
   "execution_count": 28,
   "metadata": {
    "collapsed": false
   },
   "outputs": [
    {
     "name": "stdout",
     "output_type": "stream",
     "text": [
      "[{'H1': [0.05, 0.05, 0.05, 0.1, 0.2, 0.4, 0.1, 0.05, 0, 0], 'I1': [0.05, 0.05, 0.05, 0.1, 0.1, 0.5, 0.05, 0.1, 0, 0], 'Z8': [0.05, 0.05, 0.1, 0.15, 0.15, 0.5, 0, 0, 0, 0], 'U66': [0.05, 0.05, 0.1, 0.1, 0.05, 0.2, 0.3, 0.1, 0.05, 0], 'N125': [0.1, 0.2, 0.05, 0.1, 0.05, 0.05, 0.1, 0.2, 0.1, 0.05]}, [0, 1, 2, 3], 3.174648061769762]\n"
     ]
    }
   ],
   "source": [
    "print(test_pop)"
   ]
  },
  {
   "cell_type": "code",
   "execution_count": null,
   "metadata": {
    "collapsed": true
   },
   "outputs": [],
   "source": []
  }
 ],
 "metadata": {
  "kernelspec": {
   "display_name": "Python 3",
   "language": "python",
   "name": "python3"
  },
  "language_info": {
   "codemirror_mode": {
    "name": "ipython",
    "version": 3
   },
   "file_extension": ".py",
   "mimetype": "text/x-python",
   "name": "python",
   "nbconvert_exporter": "python",
   "pygments_lexer": "ipython3",
   "version": "3.5.1"
  }
 },
 "nbformat": 4,
 "nbformat_minor": 0
}
