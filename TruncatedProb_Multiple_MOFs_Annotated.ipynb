{
 "cells": [
  {
   "cell_type": "code",
   "execution_count": 107,
   "metadata": {
    "collapsed": false
   },
   "outputs": [],
   "source": [
    "% matplotlib inline\n",
    "from math import log\n",
    "from matplotlib import pyplot as plt\n",
    "from IPython.display import display\n",
    "from ipywidgets import interact, interactive, fixed\n",
    "import ipywidgets as widgets\n",
    "import pytest\n",
    "import numpy as np\n",
    "import scipy.stats as ss\n",
    "import random"
   ]
  },
  {
   "cell_type": "code",
   "execution_count": 108,
   "metadata": {
    "collapsed": false
   },
   "outputs": [],
   "source": [
    "# calculates probability mass function for all mixtures and one experimental mass for one MOF\n",
    "def probability_mass_func(mass_ads_f, exp_mass, err_f, error_type):\n",
    "    all_results = []\n",
    "    prob_mass_func = []\n",
    "    mrange = 0.001\n",
    "#     creates truncated probability distribution, cannot have probabilities for negative\n",
    "    myclip_a, myclip_b = 0, float(max(mass_ads_f)) * (1 + mrange)\n",
    "    my_mean, my_std = float(exp_mass), float(err_f)\n",
    "    a, b = (myclip_a - my_mean) / my_std, (myclip_b - my_mean) / my_std\n",
    "#     calculates pmf at each mass value \n",
    "    for mass in mass_ads_f:\n",
    "        prob_upper = ss.truncnorm.cdf(float(mass) * (1 + mrange), a, b, loc = my_mean, scale = my_std)\n",
    "        prob_lower = ss.truncnorm.cdf(float(mass) * (1 - mrange), a, b, loc = my_mean, scale = my_std)\n",
    "        prob = prob_upper - prob_lower\n",
    "        prob_mass_func.append(prob)\n",
    "    all_results = [number / sum(prob_mass_func) for number in prob_mass_func]\n",
    "    return(all_results)"
   ]
  },
  {
   "cell_type": "code",
   "execution_count": 109,
   "metadata": {
    "collapsed": true
   },
   "outputs": [],
   "source": [
    "# calculates joint probability for each mof in the specified array\n",
    "def joint_pmf(pmf_results_f):\n",
    "    joint_prob = None\n",
    "    for mof in pmf_results_f:\n",
    "        if joint_prob is None:\n",
    "            joint_prob = np.array(mof)\n",
    "        else:\n",
    "            joint_prob *= np.array(mof)\n",
    "    normalized_array_prob = [ number / sum(joint_prob) for number in joint_prob]\n",
    "    return(normalized_array_prob)"
   ]
  },
  {
   "cell_type": "code",
   "execution_count": 110,
   "metadata": {
    "collapsed": true
   },
   "outputs": [],
   "source": [
    "# sets up list of MOFs/input types\n",
    "def choose_mof_types(lin_pos, number_mofs_1, \n",
    "                     lin_neg, number_mofs_2, \n",
    "                     curve_up, number_mofs_3, \n",
    "                     curve_down, number_mofs_4,  \n",
    "                     flat, number_mofs_5):\n",
    "    mof_types = []\n",
    "    number_mofs = []\n",
    "    if lin_pos == True:\n",
    "        mof_types.append('lin_pos')\n",
    "        number_mofs.append(number_mofs_1)\n",
    "    if lin_neg == True:\n",
    "        mof_types.append('lin_neg')\n",
    "        number_mofs.append(number_mofs_2)\n",
    "    if curve_up == True:\n",
    "        mof_types.append('curve_up')\n",
    "        number_mofs.append(number_mofs_3)\n",
    "    if curve_down == True:\n",
    "        mof_types.append('curve_down')\n",
    "        number_mofs.append(number_mofs_4)\n",
    "    if flat == True:\n",
    "        mof_types.append('flat')\n",
    "        number_mofs.append(number_mofs_5)\n",
    "    return(mof_types, number_mofs)"
   ]
  },
  {
   "cell_type": "code",
   "execution_count": 111,
   "metadata": {
    "collapsed": false
   },
   "outputs": [],
   "source": [
    "def mass_response(plot_inputs, number_each_type, error, error_type):\n",
    "    data = []\n",
    "#     creates list of mole fractions for a binary gas mixture\n",
    "    gas_frac = np.linspace(0.0, 1.0, 101)\n",
    "#     for each MOF/input type chosen, masses are calculated using functions\n",
    "    for each in plot_inputs:\n",
    "        if each == 'lin_pos':\n",
    "            mass_ads = gas_frac * 272 + 8\n",
    "            data.append(mass_ads)\n",
    "        elif each == 'lin_neg':\n",
    "            mass_ads = gas_frac * -272 + 280\n",
    "            data.append(mass_ads)\n",
    "        elif each == 'curve_up':\n",
    "            mass_ads = (gas_frac - 0.5) * (gas_frac - 0.5) * 267 + 100\n",
    "            data.append(mass_ads)\n",
    "        elif each == 'curve_down':\n",
    "            mass_ads = (gas_frac - 0.5) * (gas_frac - 0.5) * -267 + 100\n",
    "            data.append(mass_ads)\n",
    "        else:\n",
    "            mass_ads = (gas_frac - gas_frac) + 100\n",
    "            data.append(mass_ads)\n",
    "#     plots each input type\n",
    "    for data_set in data:\n",
    "        plt.plot(gas_frac, data_set)\n",
    "    plt.xlabel('Mole Fraction')\n",
    "    plt.ylabel('Mass Adsorption')\n",
    "    plt.show()\n",
    "#     choose experimental gas mixture to be the halfway point, (0.5, 0.5)\n",
    "    experimental_mixture = len(gas_frac)//2\n",
    "    print(gas_frac[experimental_mixture])\n",
    "    \n",
    "#     sets up empty array for probabilities from all MOFs in array\n",
    "    all_element_probabilities = []\n",
    "    for mof_element_number in range(len(data)):\n",
    "#         calls number of MOFs of the current MOF type, specified by user\n",
    "        number_mofs = number_each_type[mof_element_number]        \n",
    "#         calls mass value for the current MOF at the experimental mixture chosen\n",
    "        experimental_mass_base = data[mof_element_number][experimental_mixture]\n",
    "#         sets lower limit for error, eliminating any chance for negative masses\n",
    "        if experimental_mass_base < error:\n",
    "            error_ll = 0\n",
    "        else:\n",
    "            error_ll = -1*error\n",
    "#         calculates probabilities for each MOF of the current type\n",
    "        for mof_element in range(number_mofs):\n",
    "#         adds an error in the range of -error to +error\n",
    "            experimental_mass = experimental_mass_base + random.choice((error, error_ll)) * round(random.random(),3)\n",
    "#         calls function to calculate pmf values for all possible mixtures\n",
    "            pmf_results = probability_mass_func(data[mof_element_number], experimental_mass, error, error_type)\n",
    "            all_element_probabilities.append(pmf_results)\n",
    "            print(experimental_mass)\n",
    "#     calls function to calculate joint probability over all MOFs\n",
    "    joint_probability = joint_pmf(all_element_probabilities)    \n",
    "    \n",
    "    plt.plot(gas_frac, joint_probability)\n",
    "    plt.axis([0,1.0,0,max(joint_probability) + .02])\n",
    "    plt.xlabel('Mole Fraction')\n",
    "    plt.ylabel('Probability Mass Function')\n",
    "    plt.show()\n",
    "    \n",
    "    plt.plot(gas_frac, joint_probability)\n",
    "    plt.axis([0,1.0,0,1.0])\n",
    "    plt.xlabel('Mole Fraction')\n",
    "    plt.ylabel('Probability Mass Function')\n",
    "    plt.show()\n",
    "    \n",
    "    return()"
   ]
  },
  {
   "cell_type": "code",
   "execution_count": 112,
   "metadata": {
    "collapsed": false
   },
   "outputs": [
    {
     "data": {
      "text/plain": [
       "(['lin_pos', 'curve_up'], [1, 1])"
      ]
     },
     "metadata": {},
     "output_type": "display_data"
    }
   ],
   "source": [
    "# can choose which types of MOFs and how many are in an array\n",
    "number_of_mofs = (1, 10, 1)\n",
    "different_mof_types = interactive(choose_mof_types, lin_pos = True,\n",
    "                                                    number_mofs_1 = number_of_mofs,\n",
    "                                                    lin_neg = True, \n",
    "                                                    number_mofs_2 = number_of_mofs,\n",
    "                                                    curve_up = True,\n",
    "                                                    number_mofs_3 = number_of_mofs,\n",
    "                                                    curve_down = True,\n",
    "                                                    number_mofs_4 = number_of_mofs,\n",
    "                                                    flat = True,\n",
    "                                                    number_mofs_5 = number_of_mofs)\n",
    "display(different_mof_types)"
   ]
  },
  {
   "cell_type": "code",
   "execution_count": 115,
   "metadata": {
    "collapsed": false,
    "scrolled": false
   },
   "outputs": [
    {
     "data": {
      "image/png": "[encoded data removed]",
      "text/plain": [
       "<matplotlib.figure.Figure at 0x3e27acceb8>"
      ]
     },
     "metadata": {},
     "output_type": "display_data"
    },
    {
     "name": "stdout",
     "output_type": "stream",
     "text": [
      "0.5\n",
      "155.572\n",
      "103.718\n"
     ]
    },
    {
     "data": {
      "image/png": "[encoded data removed]",
      "text/plain": [
       "<matplotlib.figure.Figure at 0x3e26827828>"
      ]
     },
     "metadata": {},
     "output_type": "display_data"
    },
    {
     "data": {
      "image/png": "[encoded data removed]",
      "text/plain": [
       "<matplotlib.figure.Figure at 0x3e27a09f60>"
      ]
     },
     "metadata": {},
     "output_type": "display_data"
    },
    {
     "data": {
      "text/plain": [
       "()"
      ]
     },
     "metadata": {},
     "output_type": "display_data"
    }
   ],
   "source": [
    "# range of error values to choose from, runs code to calculate probabilities\n",
    "error_values = (1.0, 1000, 1)\n",
    "types_of_mofs = different_mof_types.result[0]\n",
    "numbers_of_mofs = different_mof_types.result[1]\n",
    "\n",
    "interact(mass_response,\n",
    "         plot_inputs = fixed(types_of_mofs),\n",
    "         number_each_type = fixed(numbers_of_mofs),\n",
    "         error = error_values,\n",
    "         error_type = fixed(max(error_values))\n",
    "         )"
   ]
  },
  {
   "cell_type": "code",
   "execution_count": null,
   "metadata": {
    "collapsed": true
   },
   "outputs": [],
   "source": []
  }
 ],
 "metadata": {
  "kernelspec": {
   "display_name": "Python 3",
   "language": "python",
   "name": "python3"
  },
  "language_info": {
   "codemirror_mode": {
    "name": "ipython",
    "version": 3
   },
   "file_extension": ".py",
   "mimetype": "text/x-python",
   "name": "python",
   "nbconvert_exporter": "python",
   "pygments_lexer": "ipython3",
   "version": "3.5.1"
  }
 },
 "nbformat": 4,
 "nbformat_minor": 0
}
